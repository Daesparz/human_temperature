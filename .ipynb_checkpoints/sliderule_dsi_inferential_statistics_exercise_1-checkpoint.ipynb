{
 "cells": [
  {
   "cell_type": "markdown",
   "metadata": {},
   "source": [
    "# What is the True Normal Human Body Temperature? \n",
    "\n",
    "#### Background\n",
    "\n",
    "The mean normal body temperature was held to be 37$^{\\circ}$C or 98.6$^{\\circ}$F for more than 120 years since it was first conceptualized and reported by Carl Wunderlich in a famous 1868 book. But, is this value statistically correct?"
   ]
  },
  {
   "cell_type": "markdown",
   "metadata": {},
   "source": [
    "<h3>Exercises</h3>\n",
    "\n",
    "<p>In this exercise, you will analyze a dataset of human body temperatures and employ the concepts of hypothesis testing, confidence intervals, and statistical significance.</p>\n",
    "\n",
    "<p>Answer the following questions <b>in this notebook below and submit to your Github account</b>.</p> \n",
    "\n",
    "<ol>\n",
    "<li>  Is the distribution of body temperatures normal? \n",
    "    <ul>\n",
    "    <li> Although this is not a requirement for the Central Limit Theorem to hold (read the introduction on Wikipedia's page about the CLT carefully: https://en.wikipedia.org/wiki/Central_limit_theorem), it gives us some peace of mind that the population may also be normally distributed if we assume that this sample is representative of the population.\n",
    "    <li> Think about the way you're going to check for the normality of the distribution. Graphical methods are usually used first, but there are also other ways: https://en.wikipedia.org/wiki/Normality_test\n",
    "    </ul>\n",
    "<li>  Is the sample size large? Are the observations independent?\n",
    "    <ul>\n",
    "    <li> Remember that this is a condition for the Central Limit Theorem, and hence the statistical tests we are using, to apply.\n",
    "    </ul>\n",
    "<li>  Is the true population mean really 98.6 degrees F?\n",
    "    <ul>\n",
    "    <li> First, try a bootstrap hypothesis test.\n",
    "    <li> Now, let's try frequentist statistical testing. Would you use a one-sample or two-sample test? Why?\n",
    "    <li> In this situation, is it appropriate to use the $t$ or $z$ statistic? \n",
    "    <li> Now try using the other test. How is the result be different? Why?\n",
    "    </ul>\n",
    "<li>  Draw a small sample of size 10 from the data and repeat both frequentist tests. \n",
    "    <ul>\n",
    "    <li> Which one is the correct one to use? \n",
    "    <li> What do you notice? What does this tell you about the difference in application of the $t$ and $z$ statistic?\n",
    "    </ul>\n",
    "<li>  At what temperature should we consider someone's temperature to be \"abnormal\"?\n",
    "    <ul>\n",
    "    <li> As in the previous example, try calculating everything using the boostrap approach, as well as the frequentist approach.\n",
    "    <li> Start by computing the margin of error and confidence interval. When calculating the confidence interval, keep in mind that you should use the appropriate formula for one draw, and not N draws.\n",
    "    </ul>\n",
    "<li>  Is there a significant difference between males and females in normal temperature?\n",
    "    <ul>\n",
    "    <li> What testing approach did you use and why?\n",
    "    <li> Write a story with your conclusion in the context of the original problem.\n",
    "    </ul>\n",
    "</ol>\n",
    "\n",
    "You can include written notes in notebook cells using Markdown: \n",
    "   - In the control panel at the top, choose Cell > Cell Type > Markdown\n",
    "   - Markdown syntax: http://nestacms.com/docs/creating-content/markdown-cheat-sheet\n",
    "\n",
    "#### Resources\n",
    "\n",
    "+ Information and data sources: http://www.amstat.org/publications/jse/datasets/normtemp.txt, http://www.amstat.org/publications/jse/jse_data_archive.htm\n",
    "+ Markdown syntax: http://nestacms.com/docs/creating-content/markdown-cheat-sheet\n",
    "\n",
    "****"
   ]
  },
  {
   "cell_type": "code",
   "execution_count": 1,
   "metadata": {},
   "outputs": [],
   "source": [
    "import pandas as pd\n",
    "\n",
    "df = pd.read_csv('data/human_body_temperature.csv')"
   ]
  },
  {
   "cell_type": "code",
   "execution_count": 2,
   "metadata": {},
   "outputs": [
    {
     "name": "stdout",
     "output_type": "stream",
     "text": [
      "130\n"
     ]
    },
    {
     "data": {
      "text/html": [
       "<div>\n",
       "<style scoped>\n",
       "    .dataframe tbody tr th:only-of-type {\n",
       "        vertical-align: middle;\n",
       "    }\n",
       "\n",
       "    .dataframe tbody tr th {\n",
       "        vertical-align: top;\n",
       "    }\n",
       "\n",
       "    .dataframe thead th {\n",
       "        text-align: right;\n",
       "    }\n",
       "</style>\n",
       "<table border=\"1\" class=\"dataframe\">\n",
       "  <thead>\n",
       "    <tr style=\"text-align: right;\">\n",
       "      <th></th>\n",
       "      <th>temperature</th>\n",
       "      <th>gender</th>\n",
       "      <th>heart_rate</th>\n",
       "    </tr>\n",
       "  </thead>\n",
       "  <tbody>\n",
       "    <tr>\n",
       "      <th>0</th>\n",
       "      <td>99.3</td>\n",
       "      <td>F</td>\n",
       "      <td>68.0</td>\n",
       "    </tr>\n",
       "    <tr>\n",
       "      <th>1</th>\n",
       "      <td>98.4</td>\n",
       "      <td>F</td>\n",
       "      <td>81.0</td>\n",
       "    </tr>\n",
       "    <tr>\n",
       "      <th>2</th>\n",
       "      <td>97.8</td>\n",
       "      <td>M</td>\n",
       "      <td>73.0</td>\n",
       "    </tr>\n",
       "    <tr>\n",
       "      <th>3</th>\n",
       "      <td>99.2</td>\n",
       "      <td>F</td>\n",
       "      <td>66.0</td>\n",
       "    </tr>\n",
       "    <tr>\n",
       "      <th>4</th>\n",
       "      <td>98.0</td>\n",
       "      <td>F</td>\n",
       "      <td>73.0</td>\n",
       "    </tr>\n",
       "  </tbody>\n",
       "</table>\n",
       "</div>"
      ],
      "text/plain": [
       "   temperature gender  heart_rate\n",
       "0         99.3      F        68.0\n",
       "1         98.4      F        81.0\n",
       "2         97.8      M        73.0\n",
       "3         99.2      F        66.0\n",
       "4         98.0      F        73.0"
      ]
     },
     "execution_count": 2,
     "metadata": {},
     "output_type": "execute_result"
    }
   ],
   "source": [
    "size = df.shape[0]\n",
    "print (size)\n",
    "df.head()"
   ]
  },
  {
   "cell_type": "markdown",
   "metadata": {},
   "source": [
    "#### 1. Is the distribution of body temperatures normal?\n",
    "\n",
    "Do we estimate the mean of body temperature using a sample of 130 people? Is this dataset representative of the population? According to conditions for inference on a mean we need to check:\n",
    "\n",
    "1. Random sample\n",
    "2. Normal distribution: We don't know the distribution of the parent population, but sample size is large (n >= 30). It's a good antecedent. \n",
    "3. Independent"
   ]
  },
  {
   "cell_type": "markdown",
   "metadata": {},
   "source": [
    "#### Graphical Methods\n",
    "Firstly, we plot a histogram using the data and then we will compare this result with a normal distribution. How does a normal distribution with same *mu* and *sigma* of sample data look?"
   ]
  },
  {
   "cell_type": "code",
   "execution_count": 3,
   "metadata": {},
   "outputs": [
    {
     "data": {
      "image/png": "[encoded data removed]",
      "text/plain": [
       "<Figure size 432x288 with 1 Axes>"
      ]
     },
     "metadata": {},
     "output_type": "display_data"
    }
   ],
   "source": [
    "from matplotlib import pyplot as plt\n",
    "from scipy.stats import ttest_ind\n",
    "import seaborn as sns\n",
    "import numpy as np\n",
    "\n",
    "%matplotlib inline\n",
    "\n",
    "mu = np.mean(df.temperature)\n",
    "sigma = np.std(df.temperature, ddof=1)\n",
    "np.random.seed(42)\n",
    "norm = np.random.normal(mu, sigma, size)\n",
    "\n",
    "_ = sns.set_style(\"whitegrid\")\n",
    "_ = plt.hist(df.temperature, bins=10, density=True, alpha=0.6, label='Sample distribution')\n",
    "_ = plt.hist(norm, bins=10, density=True, alpha=0.6, label='Normal distribution', color='xkcd:lavender')\n",
    "_ = plt.xlabel('body temperature')\n",
    "_ = plt.ylabel('PDF')\n",
    "_ = plt.legend()\n",
    "plt.show()"
   ]
  },
  {
   "cell_type": "markdown",
   "metadata": {},
   "source": [
    "Another graphical method is a **Q-Q plot**, that is a scatter plot of quantiles of a tested distribution (y axis) and quantiles of a normal distribution (x axis). If distributions are similar the plot will be close to a straight line."
   ]
  },
  {
   "cell_type": "code",
   "execution_count": 4,
   "metadata": {},
   "outputs": [
    {
     "data": {
      "image/png": "[encoded data removed]",
      "text/plain": [
       "<Figure size 432x288 with 1 Axes>"
      ]
     },
     "metadata": {},
     "output_type": "display_data"
    }
   ],
   "source": [
    "#Sorting tested and normal data\n",
    "data = df.temperature.sort_values()\n",
    "norm.sort()\n",
    "\n",
    "_ = sns.set_style(\"whitegrid\")\n",
    "_ = plt.plot(norm, data, marker=\".\", markersize=5, linestyle='none', color='xkcd:violet')\n",
    "\n",
    "# Linear Regression\n",
    "z = np.polyfit(norm, data, 1)\n",
    "p = np.poly1d(z) #p=ax+b\n",
    "_ = plt.plot(norm, p(norm),\"k--\", linewidth=1)\n",
    "_ = plt.title(\"Normal Q-Q plot\")\n",
    "_ = plt.xlabel(\"Theoretical quantiles\")\n",
    "_ = plt.ylabel(\"Experimental quantiles\")\n",
    "_ = plt.tick_params(labelsize=10)\n",
    "plt.show()"
   ]
  },
  {
   "cell_type": "markdown",
   "metadata": {},
   "source": [
    "There are some outliers, but in general, results suggest that behavior of distribution is normal in this quick and informal method to analyze data. We will proceed to use statistical tests.\n",
    "\n",
    "\n",
    "#### Statistical Test\n",
    "\n",
    "Now, we apply the test of normality **Shapiro-Wilk** that tests the **null hypothesis** that the sample analized come from a normally distributed population."
   ]
  },
  {
   "cell_type": "code",
   "execution_count": 5,
   "metadata": {},
   "outputs": [
    {
     "name": "stdout",
     "output_type": "stream",
     "text": [
      "Statistics = 0.987, p = 0.233\n"
     ]
    }
   ],
   "source": [
    "from scipy.stats import shapiro\n",
    "# normality test\n",
    "stat, p = shapiro(data)\n",
    "print ('Statistics = %.3f, p = %.3f' %(stat, p))"
   ]
  },
  {
   "cell_type": "markdown",
   "metadata": {},
   "source": [
    "Using a *significance level* of 0.05, we **fail to reject the null hypothesis** because p value is higher to the significance level. Then, we can't reject the idea of tested distribution looks normal."
   ]
  },
  {
   "cell_type": "markdown",
   "metadata": {},
   "source": [
    "#### 2. Is the sample size large? Are the observations independent?\n",
    "\n",
    "Independent condition: Sampling without replacement requires using a sample size n <= 10% of population. Clearly 130 people is less than 10% of population (considering the world population above 7 thousand million of people)"
   ]
  },
  {
   "cell_type": "markdown",
   "metadata": {},
   "source": [
    "#### 3. Is the true population mean really 98.6 degrees F?\n",
    "First, try a bootstrap hypothesis test.\n",
    "Now, let's try frequentist statistical testing. Would you use a one-sample or two-sample test? Why?\n",
    "In this situation, is it appropriate to use the  𝑡  or  𝑧  statistic?\n",
    "Now try using the other test. How is the result be different? Why?\n",
    "\n",
    "We use one-sample test because we are not trying to compare female-male mean temperature. It's a general analysis that include both groups in the same category. It's appropiated using t statistic because we dont' know the standard deviation of the population (when is known, we use z-statistic instead t-statistic)."
   ]
  },
  {
   "cell_type": "code",
   "execution_count": 6,
   "metadata": {},
   "outputs": [],
   "source": [
    "def bootstrap_replicate_1d(data, func):\n",
    "    return func(np.random.choice(data, size=len(data)))"
   ]
  },
  {
   "cell_type": "code",
   "execution_count": 7,
   "metadata": {},
   "outputs": [],
   "source": [
    "bs_replicates = np.empty(1000)\n",
    "for i in range(1000):\n",
    "    bs_replicates[i] = bootstrap_replicate_1d(data, np.mean)"
   ]
  },
  {
   "cell_type": "code",
   "execution_count": 8,
   "metadata": {},
   "outputs": [
    {
     "name": "stdout",
     "output_type": "stream",
     "text": [
      "Reject the null hypothesis\n"
     ]
    }
   ],
   "source": [
    "mean_population = 98.6\n",
    "alpha = 0.05\n",
    "p = np.sum(bs_replicates >= mean_population)/len(bs_replicates)\n",
    "if p >= alpha:\n",
    "    print('Fail to reject null hypothesis')\n",
    "else:\n",
    "    print ('Reject the null hypothesis')"
   ]
  },
  {
   "cell_type": "markdown",
   "metadata": {},
   "source": [
    "How looks this **bootstrap replicate mean distribution?**"
   ]
  },
  {
   "cell_type": "code",
   "execution_count": 9,
   "metadata": {},
   "outputs": [
    {
     "data": {
      "image/png": "[encoded data removed]",
      "text/plain": [
       "<Figure size 432x288 with 1 Axes>"
      ]
     },
     "metadata": {},
     "output_type": "display_data"
    }
   ],
   "source": [
    "_ = sns.set_style(\"whitegrid\")\n",
    "_ = plt.hist(bs_replicates, density=True, alpha=0.5, color='xkcd:aquamarine')\n",
    "_ = plt.xlabel('body temperature')\n",
    "_ = plt.ylabel('PDF')\n",
    "_ = plt.title('Bootstrap replicate mean distribution')\n",
    "plt.show()"
   ]
  },
  {
   "cell_type": "markdown",
   "metadata": {},
   "source": [
    "If this sample is representative, true population mean could be less than 98.6 degrees F.\n",
    "\n",
    "Let us check using **t-statistic**"
   ]
  },
  {
   "cell_type": "code",
   "execution_count": 10,
   "metadata": {},
   "outputs": [],
   "source": [
    "from scipy import stats"
   ]
  },
  {
   "cell_type": "code",
   "execution_count": 11,
   "metadata": {},
   "outputs": [],
   "source": [
    "# Sigma estimation\n",
    "s = np.std(data, ddof=1)\n",
    "x = mu"
   ]
  },
  {
   "cell_type": "code",
   "execution_count": 12,
   "metadata": {},
   "outputs": [
    {
     "name": "stdout",
     "output_type": "stream",
     "text": [
      "t-statistics = -5.45482, p = 0.0000002411\n"
     ]
    }
   ],
   "source": [
    "t_stat = (x - mean_population)/(s*np.sqrt(1/size))\n",
    "dof = size - 1\n",
    "p = (1 - stats.t.cdf(abs(t_stat), dof)) * 2\n",
    "print ('t-statistics = %.5f, p = %.10f' %(t_stat, p))"
   ]
  },
  {
   "cell_type": "markdown",
   "metadata": {},
   "source": [
    "Interpretation using **critical value**"
   ]
  },
  {
   "cell_type": "code",
   "execution_count": 13,
   "metadata": {},
   "outputs": [
    {
     "name": "stdout",
     "output_type": "stream",
     "text": [
      "Reject the null hypothesis\n"
     ]
    }
   ],
   "source": [
    "alpha = 0.05\n",
    "cv = stats.t.ppf(1.0 - alpha, dof)\n",
    "if abs(t_stat) <= cv:\n",
    "    print('Fail to reject null hypothesis')\n",
    "else:\n",
    "    print('Reject the null hypothesis')        "
   ]
  },
  {
   "cell_type": "markdown",
   "metadata": {},
   "source": [
    "Interpretation using **p value**"
   ]
  },
  {
   "cell_type": "code",
   "execution_count": 14,
   "metadata": {},
   "outputs": [
    {
     "name": "stdout",
     "output_type": "stream",
     "text": [
      "Reject the null hypothesis\n"
     ]
    }
   ],
   "source": [
    "if p >= alpha:\n",
    "    print('Fail to reject null hypothesis')\n",
    "else:\n",
    "    print ('Reject the null hypothesis')"
   ]
  },
  {
   "cell_type": "markdown",
   "metadata": {},
   "source": [
    "Let us check using **z-statistic**"
   ]
  },
  {
   "cell_type": "code",
   "execution_count": 15,
   "metadata": {},
   "outputs": [
    {
     "name": "stdout",
     "output_type": "stream",
     "text": [
      "z-statistics = -5.45482, p = 0.0000000490\n"
     ]
    }
   ],
   "source": [
    "z_stat = (x - mean_population)/(s*np.sqrt(1/size))\n",
    "p = (1 - stats.norm.cdf(abs(z_stat)))*2\n",
    "print ('z-statistics = %.5f, p = %.10f' %(z_stat, p))"
   ]
  },
  {
   "cell_type": "markdown",
   "metadata": {},
   "source": [
    "We note that margin of error is underestimate using z-statistic. In fact, if standard deviation of the distribution is unknown you must use t-statistic instead. **p value** is less than *inference level* of 0.05, so we reject the null hypothesis using z-statistic too.\n",
    "\n",
    "**Then, the mean of this distribution is not 98.6 degrees F**"
   ]
  },
  {
   "cell_type": "markdown",
   "metadata": {},
   "source": [
    "#### 4. Draw a small sample of size 10 from the data and repeat both frequentist tests.\n",
    "Which one is the correct one to use?\n",
    "What do you notice? What does this tell you about the difference in application of the  𝑡 and  𝑧  statistic?"
   ]
  },
  {
   "cell_type": "code",
   "execution_count": 16,
   "metadata": {},
   "outputs": [],
   "source": [
    "n = 10\n",
    "np.random.seed(42)\n",
    "ten_data = np.random.choice(data, size=n)"
   ]
  },
  {
   "cell_type": "code",
   "execution_count": 17,
   "metadata": {},
   "outputs": [],
   "source": [
    "# Parameters estimation\n",
    "x = np.mean(ten_data)\n",
    "s = np.std(ten_data, ddof=1)\n",
    "size_n = len(ten_data)\n",
    "dof = size_n - 1"
   ]
  },
  {
   "cell_type": "code",
   "execution_count": 18,
   "metadata": {},
   "outputs": [
    {
     "name": "stdout",
     "output_type": "stream",
     "text": [
      "t-statistics = -0.76376, p = 0.4645592669\n"
     ]
    }
   ],
   "source": [
    "t_stat = (x - mean_population)/(s*np.sqrt(1/size_n))\n",
    "p = (1 - stats.t.cdf(abs(t_stat), dof)) * 2\n",
    "print ('t-statistics = %.5f, p = %.10f' %(t_stat, p))"
   ]
  },
  {
   "cell_type": "code",
   "execution_count": 19,
   "metadata": {},
   "outputs": [
    {
     "name": "stdout",
     "output_type": "stream",
     "text": [
      "z-statistics = -0.76376, p = 0.4450087187\n"
     ]
    }
   ],
   "source": [
    "z_stat = (x - mean_population)/(s*np.sqrt(1/size_n))\n",
    "p = (1 - stats.norm.cdf(abs(z_stat)))*2\n",
    "print ('z-statistics = %.5f, p = %.10f' %(z_stat, p))"
   ]
  },
  {
   "cell_type": "markdown",
   "metadata": {},
   "source": [
    "Now, margin of error is similar in both tests (same magnitud order). **p_value** >> 0.05 and if we try with more random choices we will get values in a wide range. In that case, is impossible conclude anything appropriately. Theorically, we must avoiding to apply z score because sample size is lower than 30. Data should be normally distributed and if we don't know that, a large sample must be used (n >= 30).\n",
    "\n",
    "Usind this particular random selection, we **fail to reject the null hypothesis**, because **p > 0.05**"
   ]
  },
  {
   "cell_type": "markdown",
   "metadata": {},
   "source": [
    "What if we try a bootstrap with 1000 replicates of size 10?"
   ]
  },
  {
   "cell_type": "code",
   "execution_count": 20,
   "metadata": {},
   "outputs": [],
   "source": [
    "bs_replicates = np.empty(1000)\n",
    "for i in range(1000):\n",
    "    bs_replicates[i] = np.mean(np.random.choice(data, size=size_n))"
   ]
  },
  {
   "cell_type": "code",
   "execution_count": 21,
   "metadata": {},
   "outputs": [
    {
     "name": "stdout",
     "output_type": "stream",
     "text": [
      "Fail to reject null hypothesis\n"
     ]
    }
   ],
   "source": [
    "p = np.sum(bs_replicates >= mean_population)/len(bs_replicates)\n",
    "if p >= alpha:\n",
    "    print('Fail to reject null hypothesis')\n",
    "else:\n",
    "    print ('Reject the null hypothesis')"
   ]
  },
  {
   "cell_type": "markdown",
   "metadata": {},
   "source": [
    "#### 5. At what temperature should we consider someone's temperature to be \"abnormal\"?\n",
    "As in the previous example, try calculating everything using the boostrap approach, as well as the frequentist approach.\n",
    "Start by computing the margin of error and confidence interval. When calculating the confidence interval, keep in mind that you should use the appropriate formula for one draw, and not N draws."
   ]
  },
  {
   "cell_type": "code",
   "execution_count": 22,
   "metadata": {},
   "outputs": [],
   "source": [
    "np.random.seed(42)\n",
    "bs_data = np.random.choice(data, size=size)"
   ]
  },
  {
   "cell_type": "code",
   "execution_count": 23,
   "metadata": {},
   "outputs": [
    {
     "name": "stdout",
     "output_type": "stream",
     "text": [
      "Margin of error = 0.132, Confidence interval or normal temperature = [98.081, 98.345]\n"
     ]
    }
   ],
   "source": [
    "# Parameters estimation\n",
    "bs_x = np.mean(bs_data)\n",
    "bs_s = np.std(bs_data, ddof=1)\n",
    "dof = size - 1\n",
    "\n",
    "# Margin of error and Confidence interval using z_critical\n",
    "z_critical = stats.norm.ppf(q = 0.975)\n",
    "margin = z_critical * (bs_s*np.sqrt(1/size))\n",
    "low_inter = bs_x - margin\n",
    "high_inter = bs_x + margin\n",
    "print ('Margin of error = %.3f, Confidence interval or normal temperature = [%.3f, %.3f]' %(margin, low_inter, high_inter))"
   ]
  },
  {
   "cell_type": "code",
   "execution_count": 24,
   "metadata": {},
   "outputs": [
    {
     "name": "stdout",
     "output_type": "stream",
     "text": [
      "Margin of error = 0.133, Confidence interval or normal temperature = [98.080, 98.346]\n"
     ]
    }
   ],
   "source": [
    "# Margin of error and Confidence interval using t_critical\n",
    "t_critical = stats.t.ppf(q = 0.975, df = dof)\n",
    "margin = t_critical * (bs_s*np.sqrt(1/size))\n",
    "low_inter = bs_x - margin\n",
    "high_inter = bs_x + margin\n",
    "print ('Margin of error = %.3f, Confidence interval or normal temperature = [%.3f, %.3f]' %(margin, low_inter, high_inter))"
   ]
  },
  {
   "cell_type": "code",
   "execution_count": 25,
   "metadata": {},
   "outputs": [
    {
     "name": "stdout",
     "output_type": "stream",
     "text": [
      "t-statistics = -5.74803, p = 0.0000000619\n"
     ]
    }
   ],
   "source": [
    "t_stat = (bs_x - mean_population)/(bs_s*np.sqrt(1/size))\n",
    "p = (1 - stats.t.cdf(abs(t_stat), dof)) * 2\n",
    "print ('t-statistics = %.5f, p = %.10f' %(t_stat, p))"
   ]
  },
  {
   "cell_type": "code",
   "execution_count": 26,
   "metadata": {},
   "outputs": [
    {
     "name": "stdout",
     "output_type": "stream",
     "text": [
      "Reject the null hypothesis\n"
     ]
    }
   ],
   "source": [
    "if p >= alpha:\n",
    "    print('Fail to reject null hypothesis')\n",
    "else:\n",
    "    print ('Reject the null hypothesis')"
   ]
  },
  {
   "cell_type": "code",
   "execution_count": 27,
   "metadata": {},
   "outputs": [
    {
     "name": "stdout",
     "output_type": "stream",
     "text": [
      "z-statistics = -5.74803, p = 0.0000000090\n"
     ]
    }
   ],
   "source": [
    "z_stat = (bs_x - mean_population)/(bs_s*np.sqrt(1/size))\n",
    "p = (1 - stats.norm.cdf(abs(z_stat)))*2\n",
    "print ('z-statistics = %.5f, p = %.10f' %(z_stat, p))"
   ]
  },
  {
   "cell_type": "code",
   "execution_count": 28,
   "metadata": {},
   "outputs": [
    {
     "name": "stdout",
     "output_type": "stream",
     "text": [
      "Reject the null hypothesis\n"
     ]
    }
   ],
   "source": [
    "alpha = 0.05\n",
    "cv = stats.t.ppf(1.0 - alpha, dof)\n",
    "if abs(t_stat) <= cv:\n",
    "    print('Fail to reject null hypothesis')\n",
    "else:\n",
    "    print('Reject the null hypothesis')  "
   ]
  },
  {
   "cell_type": "markdown",
   "metadata": {},
   "source": [
    "#### 6. Is there a significant difference between males and females in normal temperature?\n",
    "What testing approach did you use and why?\n",
    "Write a story with your conclusion in the context of the original problem."
   ]
  },
  {
   "cell_type": "code",
   "execution_count": 29,
   "metadata": {},
   "outputs": [],
   "source": [
    "df.head()\n",
    "female = df[df.gender == 'F'].temperature\n",
    "male = df[df.gender == 'M'].temperature"
   ]
  },
  {
   "cell_type": "markdown",
   "metadata": {},
   "source": [
    "Do you think that there is significant difference between female and male body temperature? We will apply two methods: **two sampled T-test** and a **permutation test**, defining as null hypothesis that **doesn't exist a significant difference between both groups**. "
   ]
  },
  {
   "cell_type": "code",
   "execution_count": 30,
   "metadata": {},
   "outputs": [
    {
     "name": "stdout",
     "output_type": "stream",
     "text": [
      "t-statistics of two sampled = 2.28543, p = 0.0239318831\n"
     ]
    }
   ],
   "source": [
    "female_mean = np.mean(female)\n",
    "female_std = np.std(female)\n",
    "male_mean = np.mean(male)\n",
    "male_std = np.std(male)\n",
    "\n",
    "ttest,p = ttest_ind(female, male)\n",
    "print ('t-statistics of two sampled = %.5f, p = %.10f' %(ttest, p))"
   ]
  },
  {
   "cell_type": "code",
   "execution_count": 31,
   "metadata": {},
   "outputs": [
    {
     "name": "stdout",
     "output_type": "stream",
     "text": [
      "Reject the null hypothesis\n"
     ]
    }
   ],
   "source": [
    "if p >= 0.05:\n",
    "    print ('Fail to reject the null hypothesis')\n",
    "else:\n",
    "    print ('Reject the null hypothesis')"
   ]
  },
  {
   "cell_type": "markdown",
   "metadata": {},
   "source": [
    "**Permutation test**, using the same null hypothesis. We will take 1000 replicates."
   ]
  },
  {
   "cell_type": "code",
   "execution_count": 32,
   "metadata": {},
   "outputs": [],
   "source": [
    "def permutation_sample(data1, data2):\n",
    "    permuted_data = np.random.permutation(np.concatenate((female, male)))\n",
    "    return permuted_data[:len(female)], permuted_data[len(female):]"
   ]
  },
  {
   "cell_type": "code",
   "execution_count": 33,
   "metadata": {},
   "outputs": [],
   "source": [
    "def draw_perm_reps(data1, data2, func, size):\n",
    "    perm_replicates = np.empty(size)\n",
    "    \n",
    "    for i in range(size):\n",
    "        perm_female, perm_male = permutation_sample(data1, data2)\n",
    "        perm_replicates[i] = func(perm_female, perm_male)\n",
    "        \n",
    "    return perm_replicates"
   ]
  },
  {
   "cell_type": "code",
   "execution_count": 34,
   "metadata": {},
   "outputs": [],
   "source": [
    "def diff_of_means(data1, data2):\n",
    "    diff = np.mean(data1) - np.mean(data2)\n",
    "    return diff"
   ]
  },
  {
   "cell_type": "code",
   "execution_count": 35,
   "metadata": {},
   "outputs": [
    {
     "name": "stdout",
     "output_type": "stream",
     "text": [
      "p = 0.00800\n"
     ]
    }
   ],
   "source": [
    "perm_replicates = draw_perm_reps(female, male, diff_of_means, 1000)\n",
    "empirical_diff_means = diff_of_means(female, male)\n",
    "\n",
    "p = np.sum(perm_replicates >= empirical_diff_means)/len(perm_replicates)\n",
    "print ('p = %.5f' %(p))"
   ]
  },
  {
   "cell_type": "code",
   "execution_count": 36,
   "metadata": {},
   "outputs": [
    {
     "name": "stdout",
     "output_type": "stream",
     "text": [
      "Reject the null hypothesis\n"
     ]
    }
   ],
   "source": [
    "if p >= 0.05:\n",
    "    print ('Fail to reject the null hypothesis')\n",
    "else:\n",
    "    print ('Reject the null hypothesis')"
   ]
  },
  {
   "cell_type": "markdown",
   "metadata": {},
   "source": [
    "Both **two sampled test** and **permutation test** reject the null hypothesis, firming up that **there is significance difference between female and male data**."
   ]
  }
 ],
 "metadata": {
  "kernelspec": {
   "display_name": "Python 3",
   "language": "python",
   "name": "python3"
  },
  "language_info": {
   "codemirror_mode": {
    "name": "ipython",
    "version": 3
   },
   "file_extension": ".py",
   "mimetype": "text/x-python",
   "name": "python",
   "nbconvert_exporter": "python",
   "pygments_lexer": "ipython3",
   "version": "3.7.1"
  }
 },
 "nbformat": 4,
 "nbformat_minor": 1
}
